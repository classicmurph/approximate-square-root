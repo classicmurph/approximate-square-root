{
 "metadata": {
  "name": "",
  "signature": "sha256:d0bfb5bcf2fe2875e27e9a0a0ee38b99c6ce49e4d44f05bdb9a43c17b882dd07"
 },
 "nbformat": 3,
 "nbformat_minor": 0,
 "worksheets": [
  {
   "cells": [
    {
     "cell_type": "code",
     "collapsed": false,
     "input": [
      "x = float(input (\"Give me a positive number: \"))\n",
      "y = 0.1\n",
      "\n",
      "while y < (x / 2):\n",
      "    if (y ** 2) <= (x - .01):\n",
      "        y += 0.1\n",
      "        print (y)\n",
      "    elif (y ** 2) >= (x + .01):  \n",
      "        break\n",
      "        print (y)\n",
      "    elif (y ** 2) == x:\n",
      "        print(\"The square root of {} is {}.\".format(x, y))\n",
      "        break\n",
      "    else:\n",
      "        print(\"The square root of {} is {}.\".format(x, y))\n",
      "        break\n",
      "              \n",
      "              \n",
      "              \n",
      "              \n",
      " "
     ],
     "language": "python",
     "metadata": {},
     "outputs": [
      {
       "name": "stdout",
       "output_type": "stream",
       "stream": "stdout",
       "text": [
        "Give me a positive number: 20\n"
       ]
      },
      {
       "output_type": "stream",
       "stream": "stdout",
       "text": [
        "0.2\n",
        "0.30000000000000004\n",
        "0.4\n",
        "0.5\n",
        "0.6\n",
        "0.7\n",
        "0.7999999999999999\n",
        "0.8999999999999999\n",
        "0.9999999999999999\n",
        "1.0999999999999999\n",
        "1.2\n",
        "1.3\n",
        "1.4000000000000001\n",
        "1.5000000000000002\n",
        "1.6000000000000003\n",
        "1.7000000000000004\n",
        "1.8000000000000005\n",
        "1.9000000000000006\n",
        "2.0000000000000004\n",
        "2.1000000000000005\n",
        "2.2000000000000006\n",
        "2.3000000000000007\n",
        "2.400000000000001\n",
        "2.500000000000001\n",
        "2.600000000000001\n",
        "2.700000000000001\n",
        "2.800000000000001\n",
        "2.9000000000000012\n",
        "3.0000000000000013\n",
        "3.1000000000000014\n",
        "3.2000000000000015\n",
        "3.3000000000000016\n",
        "3.4000000000000017\n",
        "3.5000000000000018\n",
        "3.600000000000002\n",
        "3.700000000000002\n",
        "3.800000000000002\n",
        "3.900000000000002\n",
        "4.000000000000002\n",
        "4.100000000000001\n",
        "4.200000000000001\n",
        "4.300000000000001\n",
        "4.4\n",
        "4.5\n"
       ]
      }
     ],
     "prompt_number": 3
    },
    {
     "cell_type": "code",
     "collapsed": false,
     "input": [],
     "language": "python",
     "metadata": {},
     "outputs": [],
     "prompt_number": 0
    },
    {
     "cell_type": "code",
     "collapsed": false,
     "input": [],
     "language": "python",
     "metadata": {},
     "outputs": [],
     "prompt_number": 1
    },
    {
     "cell_type": "code",
     "collapsed": false,
     "input": [],
     "language": "python",
     "metadata": {},
     "outputs": []
    }
   ],
   "metadata": {}
  }
 ]
}